{
 "cells": [
  {
   "cell_type": "code",
   "execution_count": 64,
   "metadata": {},
   "outputs": [],
   "source": [
    "import tensorflow as tf\n",
    "import keras\n",
    "import numpy as np\n",
    "import tensorflow_datasets as tfds\n",
    "import matplotlib.pyplot as plt\n",
    "%matplotlib inline"
   ]
  },
  {
   "cell_type": "code",
   "execution_count": 4,
   "metadata": {},
   "outputs": [],
   "source": [
    "x1 = tf.constant(5)\n",
    "x2 = tf.constant(6)"
   ]
  },
  {
   "cell_type": "code",
   "execution_count": 6,
   "metadata": {},
   "outputs": [
    {
     "name": "stdout",
     "output_type": "stream",
     "text": [
      "Tensor(\"Mul:0\", shape=(), dtype=int32)\n"
     ]
    }
   ],
   "source": [
    "result = tf.multiply(x1,x2)\n",
    "print(result)"
   ]
  },
  {
   "cell_type": "code",
   "execution_count": 7,
   "metadata": {},
   "outputs": [
    {
     "name": "stdout",
     "output_type": "stream",
     "text": [
      "30\n"
     ]
    }
   ],
   "source": [
    "#Run session\n",
    "sess = tf.Session()\n",
    "print(sess.run(result))"
   ]
  },
  {
   "cell_type": "code",
   "execution_count": 8,
   "metadata": {},
   "outputs": [],
   "source": [
    "sess.close()"
   ]
  },
  {
   "cell_type": "code",
   "execution_count": 10,
   "metadata": {},
   "outputs": [
    {
     "name": "stdout",
     "output_type": "stream",
     "text": [
      "30\n",
      "30\n"
     ]
    }
   ],
   "source": [
    "#Auto open and close\n",
    "with tf.Session() as sess:\n",
    "    print(sess.run(result))\n",
    "    #Output can be referenced later outside context\n",
    "    output = sess.run(result)\n",
    "print(output)"
   ]
  },
  {
   "cell_type": "code",
   "execution_count": null,
   "metadata": {},
   "outputs": [],
   "source": [
    "#Build a deep neural net with mnist"
   ]
  },
  {
   "cell_type": "code",
   "execution_count": 53,
   "metadata": {},
   "outputs": [],
   "source": [
    "from tensorflow.examples.tutorials.mnist import input_data"
   ]
  },
  {
   "cell_type": "code",
   "execution_count": 62,
   "metadata": {},
   "outputs": [],
   "source": [
    "#One hot means only one component is active at a time\n",
    "mnist = tf.keras.datasets.mnist"
   ]
  },
  {
   "cell_type": "code",
   "execution_count": 63,
   "metadata": {},
   "outputs": [],
   "source": [
    "(x_train,y_train),(x_test,y_test) = mnist.load_data()"
   ]
  },
  {
   "cell_type": "code",
   "execution_count": 66,
   "metadata": {},
   "outputs": [
    {
     "data": {
      "image/png": "[encoded data removed]",
      "text/plain": [
       "<Figure size 432x288 with 1 Axes>"
      ]
     },
     "metadata": {
      "needs_background": "light"
     },
     "output_type": "display_data"
    }
   ],
   "source": [
    "plt.imshow(x_train[0])\n",
    "plt.show()"
   ]
  },
  {
   "cell_type": "code",
   "execution_count": 67,
   "metadata": {},
   "outputs": [],
   "source": [
    "x_train = tf.keras.utils.normalize(x_train,axis = 1)\n",
    "x_test = tf.keras.utils.normalize(x_test,axis = 1)"
   ]
  },
  {
   "cell_type": "code",
   "execution_count": 68,
   "metadata": {},
   "outputs": [
    {
     "data": {
      "image/png": "[encoded data removed]",
      "text/plain": [
       "<Figure size 432x288 with 1 Axes>"
      ]
     },
     "metadata": {
      "needs_background": "light"
     },
     "output_type": "display_data"
    }
   ],
   "source": [
    "plt.imshow(x_train[0])\n",
    "plt.show()"
   ]
  },
  {
   "cell_type": "code",
   "execution_count": 70,
   "metadata": {},
   "outputs": [
    {
     "name": "stdout",
     "output_type": "stream",
     "text": [
      "WARNING:tensorflow:From C:\\Users\\stevl\\AppData\\Local\\Continuum\\anaconda3\\lib\\site-packages\\tensorflow_core\\python\\ops\\resource_variable_ops.py:1630: calling BaseResourceVariable.__init__ (from tensorflow.python.ops.resource_variable_ops) with constraint is deprecated and will be removed in a future version.\n",
      "Instructions for updating:\n",
      "If using Keras pass *_constraint arguments to layers.\n"
     ]
    },
    {
     "name": "stderr",
     "output_type": "stream",
     "text": [
      "WARNING:tensorflow:From C:\\Users\\stevl\\AppData\\Local\\Continuum\\anaconda3\\lib\\site-packages\\tensorflow_core\\python\\ops\\resource_variable_ops.py:1630: calling BaseResourceVariable.__init__ (from tensorflow.python.ops.resource_variable_ops) with constraint is deprecated and will be removed in a future version.\n",
      "Instructions for updating:\n",
      "If using Keras pass *_constraint arguments to layers.\n"
     ]
    },
    {
     "name": "stdout",
     "output_type": "stream",
     "text": [
      "Train on 60000 samples\n",
      "Epoch 1/3\n",
      "60000/60000 [==============================] - ETA: 5:50 - loss: 2.3425 - acc: 0.062 - ETA: 36s - loss: 2.2116 - acc: 0.197 - ETA: 18s - loss: 1.9485 - acc: 0.42 - ETA: 14s - loss: 1.6597 - acc: 0.53 - ETA: 11s - loss: 1.3973 - acc: 0.61 - ETA: 10s - loss: 1.2474 - acc: 0.65 - ETA: 9s - loss: 1.1107 - acc: 0.6888 - ETA: 8s - loss: 0.9947 - acc: 0.720 - ETA: 7s - loss: 0.9109 - acc: 0.743 - ETA: 7s - loss: 0.8481 - acc: 0.759 - ETA: 7s - loss: 0.8028 - acc: 0.773 - ETA: 6s - loss: 0.7662 - acc: 0.782 - ETA: 6s - loss: 0.7329 - acc: 0.791 - ETA: 6s - loss: 0.7196 - acc: 0.795 - ETA: 7s - loss: 0.7109 - acc: 0.797 - ETA: 7s - loss: 0.7033 - acc: 0.799 - ETA: 7s - loss: 0.6939 - acc: 0.801 - ETA: 8s - loss: 0.6862 - acc: 0.803 - ETA: 7s - loss: 0.6704 - acc: 0.808 - ETA: 8s - loss: 0.6663 - acc: 0.810 - ETA: 8s - loss: 0.6594 - acc: 0.812 - ETA: 8s - loss: 0.6521 - acc: 0.814 - ETA: 8s - loss: 0.6417 - acc: 0.816 - ETA: 8s - loss: 0.6364 - acc: 0.818 - ETA: 8s - loss: 0.6300 - acc: 0.819 - ETA: 8s - loss: 0.6210 - acc: 0.822 - ETA: 8s - loss: 0.6126 - acc: 0.825 - ETA: 9s - loss: 0.6111 - acc: 0.825 - ETA: 9s - loss: 0.6059 - acc: 0.826 - ETA: 9s - loss: 0.5994 - acc: 0.828 - ETA: 9s - loss: 0.5897 - acc: 0.831 - ETA: 9s - loss: 0.5829 - acc: 0.833 - ETA: 9s - loss: 0.5739 - acc: 0.836 - ETA: 9s - loss: 0.5679 - acc: 0.837 - ETA: 8s - loss: 0.5569 - acc: 0.841 - ETA: 8s - loss: 0.5500 - acc: 0.843 - ETA: 8s - loss: 0.5383 - acc: 0.846 - ETA: 8s - loss: 0.5339 - acc: 0.847 - ETA: 8s - loss: 0.5257 - acc: 0.850 - ETA: 8s - loss: 0.5156 - acc: 0.853 - ETA: 7s - loss: 0.5066 - acc: 0.855 - ETA: 7s - loss: 0.4977 - acc: 0.858 - ETA: 7s - loss: 0.4880 - acc: 0.861 - ETA: 7s - loss: 0.4780 - acc: 0.864 - ETA: 6s - loss: 0.4721 - acc: 0.865 - ETA: 6s - loss: 0.4661 - acc: 0.867 - ETA: 6s - loss: 0.4628 - acc: 0.868 - ETA: 6s - loss: 0.4574 - acc: 0.870 - ETA: 6s - loss: 0.4505 - acc: 0.871 - ETA: 6s - loss: 0.4435 - acc: 0.873 - ETA: 6s - loss: 0.4356 - acc: 0.875 - ETA: 5s - loss: 0.4294 - acc: 0.877 - ETA: 5s - loss: 0.4252 - acc: 0.878 - ETA: 5s - loss: 0.4209 - acc: 0.879 - ETA: 5s - loss: 0.4171 - acc: 0.880 - ETA: 5s - loss: 0.4132 - acc: 0.881 - ETA: 5s - loss: 0.4080 - acc: 0.882 - ETA: 5s - loss: 0.4034 - acc: 0.883 - ETA: 5s - loss: 0.3989 - acc: 0.885 - ETA: 4s - loss: 0.3941 - acc: 0.886 - ETA: 4s - loss: 0.3893 - acc: 0.887 - ETA: 4s - loss: 0.3864 - acc: 0.888 - ETA: 4s - loss: 0.3811 - acc: 0.890 - ETA: 4s - loss: 0.3789 - acc: 0.890 - ETA: 4s - loss: 0.3760 - acc: 0.891 - ETA: 4s - loss: 0.3743 - acc: 0.891 - ETA: 4s - loss: 0.3720 - acc: 0.892 - ETA: 4s - loss: 0.3698 - acc: 0.892 - ETA: 4s - loss: 0.3671 - acc: 0.893 - ETA: 4s - loss: 0.3651 - acc: 0.893 - ETA: 4s - loss: 0.3633 - acc: 0.894 - ETA: 3s - loss: 0.3603 - acc: 0.895 - ETA: 3s - loss: 0.3570 - acc: 0.896 - ETA: 3s - loss: 0.3544 - acc: 0.896 - ETA: 3s - loss: 0.3528 - acc: 0.897 - ETA: 3s - loss: 0.3508 - acc: 0.898 - ETA: 3s - loss: 0.3480 - acc: 0.898 - ETA: 3s - loss: 0.3464 - acc: 0.899 - ETA: 3s - loss: 0.3445 - acc: 0.899 - ETA: 3s - loss: 0.3428 - acc: 0.900 - ETA: 3s - loss: 0.3406 - acc: 0.900 - ETA: 3s - loss: 0.3385 - acc: 0.901 - ETA: 3s - loss: 0.3349 - acc: 0.902 - ETA: 3s - loss: 0.3326 - acc: 0.902 - ETA: 3s - loss: 0.3300 - acc: 0.903 - ETA: 2s - loss: 0.3284 - acc: 0.904 - ETA: 2s - loss: 0.3269 - acc: 0.904 - ETA: 2s - loss: 0.3251 - acc: 0.904 - ETA: 2s - loss: 0.3226 - acc: 0.905 - ETA: 2s - loss: 0.3207 - acc: 0.906 - ETA: 2s - loss: 0.3185 - acc: 0.906 - ETA: 2s - loss: 0.3165 - acc: 0.907 - ETA: 2s - loss: 0.3145 - acc: 0.908 - ETA: 2s - loss: 0.3130 - acc: 0.908 - ETA: 2s - loss: 0.3098 - acc: 0.909 - ETA: 2s - loss: 0.3081 - acc: 0.909 - ETA: 2s - loss: 0.3070 - acc: 0.910 - ETA: 2s - loss: 0.3057 - acc: 0.910 - ETA: 1s - loss: 0.3041 - acc: 0.910 - ETA: 1s - loss: 0.3020 - acc: 0.911 - ETA: 1s - loss: 0.3003 - acc: 0.911 - ETA: 1s - loss: 0.2990 - acc: 0.912 - ETA: 1s - loss: 0.2967 - acc: 0.912 - ETA: 1s - loss: 0.2948 - acc: 0.913 - ETA: 1s - loss: 0.2934 - acc: 0.913 - ETA: 1s - loss: 0.2922 - acc: 0.914 - ETA: 1s - loss: 0.2903 - acc: 0.914 - ETA: 1s - loss: 0.2892 - acc: 0.914 - ETA: 1s - loss: 0.2880 - acc: 0.915 - ETA: 1s - loss: 0.2865 - acc: 0.915 - ETA: 1s - loss: 0.2846 - acc: 0.916 - ETA: 0s - loss: 0.2831 - acc: 0.916 - ETA: 0s - loss: 0.2817 - acc: 0.917 - ETA: 0s - loss: 0.2806 - acc: 0.917 - ETA: 0s - loss: 0.2790 - acc: 0.917 - ETA: 0s - loss: 0.2774 - acc: 0.918 - ETA: 0s - loss: 0.2764 - acc: 0.918 - ETA: 0s - loss: 0.2752 - acc: 0.919 - ETA: 0s - loss: 0.2736 - acc: 0.919 - ETA: 0s - loss: 0.2719 - acc: 0.920 - ETA: 0s - loss: 0.2704 - acc: 0.920 - ETA: 0s - loss: 0.2691 - acc: 0.920 - ETA: 0s - loss: 0.2676 - acc: 0.921 - ETA: 0s - loss: 0.2665 - acc: 0.921 - ETA: 0s - loss: 0.2658 - acc: 0.921 - ETA: 0s - loss: 0.2646 - acc: 0.922 - 7s 113us/sample - loss: 0.2639 - acc: 0.9225\n",
      "Epoch 2/3\n"
     ]
    },
    {
     "name": "stdout",
     "output_type": "stream",
     "text": [
      "60000/60000 [==============================] - ETA: 11s - loss: 0.1199 - acc: 0.96 - ETA: 5s - loss: 0.0887 - acc: 0.9688 - ETA: 4s - loss: 0.1027 - acc: 0.967 - ETA: 4s - loss: 0.1148 - acc: 0.965 - ETA: 4s - loss: 0.1126 - acc: 0.967 - ETA: 5s - loss: 0.1183 - acc: 0.965 - ETA: 4s - loss: 0.1204 - acc: 0.963 - ETA: 4s - loss: 0.1160 - acc: 0.964 - ETA: 4s - loss: 0.1109 - acc: 0.965 - ETA: 4s - loss: 0.1118 - acc: 0.965 - ETA: 4s - loss: 0.1118 - acc: 0.965 - ETA: 4s - loss: 0.1116 - acc: 0.965 - ETA: 4s - loss: 0.1119 - acc: 0.965 - ETA: 4s - loss: 0.1123 - acc: 0.965 - ETA: 4s - loss: 0.1121 - acc: 0.965 - ETA: 4s - loss: 0.1109 - acc: 0.965 - ETA: 4s - loss: 0.1107 - acc: 0.966 - ETA: 4s - loss: 0.1113 - acc: 0.966 - ETA: 4s - loss: 0.1117 - acc: 0.965 - ETA: 4s - loss: 0.1116 - acc: 0.965 - ETA: 4s - loss: 0.1109 - acc: 0.965 - ETA: 4s - loss: 0.1128 - acc: 0.965 - ETA: 3s - loss: 0.1140 - acc: 0.964 - ETA: 3s - loss: 0.1128 - acc: 0.965 - ETA: 3s - loss: 0.1135 - acc: 0.965 - ETA: 3s - loss: 0.1129 - acc: 0.965 - ETA: 3s - loss: 0.1118 - acc: 0.965 - ETA: 3s - loss: 0.1120 - acc: 0.965 - ETA: 3s - loss: 0.1112 - acc: 0.965 - ETA: 3s - loss: 0.1118 - acc: 0.965 - ETA: 3s - loss: 0.1107 - acc: 0.965 - ETA: 3s - loss: 0.1105 - acc: 0.965 - ETA: 3s - loss: 0.1113 - acc: 0.965 - ETA: 3s - loss: 0.1128 - acc: 0.965 - ETA: 3s - loss: 0.1128 - acc: 0.965 - ETA: 3s - loss: 0.1126 - acc: 0.965 - ETA: 3s - loss: 0.1125 - acc: 0.965 - ETA: 3s - loss: 0.1123 - acc: 0.965 - ETA: 3s - loss: 0.1119 - acc: 0.965 - ETA: 3s - loss: 0.1127 - acc: 0.965 - ETA: 3s - loss: 0.1128 - acc: 0.965 - ETA: 3s - loss: 0.1126 - acc: 0.965 - ETA: 2s - loss: 0.1124 - acc: 0.965 - ETA: 2s - loss: 0.1119 - acc: 0.966 - ETA: 2s - loss: 0.1112 - acc: 0.966 - ETA: 2s - loss: 0.1106 - acc: 0.966 - ETA: 2s - loss: 0.1104 - acc: 0.966 - ETA: 2s - loss: 0.1106 - acc: 0.966 - ETA: 2s - loss: 0.1099 - acc: 0.966 - ETA: 2s - loss: 0.1106 - acc: 0.966 - ETA: 2s - loss: 0.1106 - acc: 0.966 - ETA: 2s - loss: 0.1105 - acc: 0.966 - ETA: 2s - loss: 0.1112 - acc: 0.966 - ETA: 2s - loss: 0.1113 - acc: 0.966 - ETA: 2s - loss: 0.1114 - acc: 0.966 - ETA: 2s - loss: 0.1114 - acc: 0.966 - ETA: 2s - loss: 0.1120 - acc: 0.965 - ETA: 2s - loss: 0.1119 - acc: 0.965 - ETA: 1s - loss: 0.1113 - acc: 0.965 - ETA: 1s - loss: 0.1111 - acc: 0.965 - ETA: 1s - loss: 0.1113 - acc: 0.966 - ETA: 1s - loss: 0.1110 - acc: 0.965 - ETA: 1s - loss: 0.1106 - acc: 0.966 - ETA: 1s - loss: 0.1101 - acc: 0.966 - ETA: 1s - loss: 0.1098 - acc: 0.966 - ETA: 1s - loss: 0.1093 - acc: 0.966 - ETA: 1s - loss: 0.1088 - acc: 0.966 - ETA: 1s - loss: 0.1084 - acc: 0.966 - ETA: 1s - loss: 0.1084 - acc: 0.966 - ETA: 1s - loss: 0.1083 - acc: 0.966 - ETA: 1s - loss: 0.1086 - acc: 0.966 - ETA: 1s - loss: 0.1085 - acc: 0.966 - ETA: 1s - loss: 0.1082 - acc: 0.966 - ETA: 1s - loss: 0.1083 - acc: 0.966 - ETA: 1s - loss: 0.1081 - acc: 0.966 - ETA: 1s - loss: 0.1078 - acc: 0.966 - ETA: 0s - loss: 0.1076 - acc: 0.967 - ETA: 0s - loss: 0.1075 - acc: 0.967 - ETA: 0s - loss: 0.1073 - acc: 0.967 - ETA: 0s - loss: 0.1073 - acc: 0.967 - ETA: 0s - loss: 0.1067 - acc: 0.967 - ETA: 0s - loss: 0.1070 - acc: 0.967 - ETA: 0s - loss: 0.1067 - acc: 0.967 - ETA: 0s - loss: 0.1072 - acc: 0.967 - ETA: 0s - loss: 0.1069 - acc: 0.967 - ETA: 0s - loss: 0.1069 - acc: 0.967 - ETA: 0s - loss: 0.1064 - acc: 0.967 - ETA: 0s - loss: 0.1065 - acc: 0.967 - ETA: 0s - loss: 0.1064 - acc: 0.967 - ETA: 0s - loss: 0.1065 - acc: 0.967 - ETA: 0s - loss: 0.1064 - acc: 0.967 - ETA: 0s - loss: 0.1062 - acc: 0.967 - ETA: 0s - loss: 0.1063 - acc: 0.967 - ETA: 0s - loss: 0.1061 - acc: 0.967 - ETA: 0s - loss: 0.1061 - acc: 0.967 - 5s 81us/sample - loss: 0.1061 - acc: 0.9671\n",
      "Epoch 3/3\n",
      "60000/60000 [==============================] - ETA: 7s - loss: 0.0260 - acc: 1.000 - ETA: 5s - loss: 0.0832 - acc: 0.970 - ETA: 4s - loss: 0.0822 - acc: 0.972 - ETA: 4s - loss: 0.0795 - acc: 0.975 - ETA: 4s - loss: 0.0711 - acc: 0.978 - ETA: 4s - loss: 0.0703 - acc: 0.978 - ETA: 4s - loss: 0.0662 - acc: 0.980 - ETA: 4s - loss: 0.0659 - acc: 0.980 - ETA: 4s - loss: 0.0656 - acc: 0.980 - ETA: 4s - loss: 0.0663 - acc: 0.980 - ETA: 4s - loss: 0.0675 - acc: 0.980 - ETA: 4s - loss: 0.0688 - acc: 0.980 - ETA: 4s - loss: 0.0694 - acc: 0.979 - ETA: 4s - loss: 0.0711 - acc: 0.979 - ETA: 4s - loss: 0.0727 - acc: 0.978 - ETA: 4s - loss: 0.0741 - acc: 0.978 - ETA: 4s - loss: 0.0742 - acc: 0.977 - ETA: 4s - loss: 0.0740 - acc: 0.977 - ETA: 5s - loss: 0.0747 - acc: 0.977 - ETA: 5s - loss: 0.0746 - acc: 0.977 - ETA: 5s - loss: 0.0745 - acc: 0.977 - ETA: 5s - loss: 0.0747 - acc: 0.977 - ETA: 5s - loss: 0.0751 - acc: 0.976 - ETA: 5s - loss: 0.0750 - acc: 0.976 - ETA: 4s - loss: 0.0754 - acc: 0.976 - ETA: 4s - loss: 0.0765 - acc: 0.976 - ETA: 4s - loss: 0.0770 - acc: 0.976 - ETA: 4s - loss: 0.0778 - acc: 0.976 - ETA: 4s - loss: 0.0775 - acc: 0.975 - ETA: 4s - loss: 0.0766 - acc: 0.976 - ETA: 4s - loss: 0.0756 - acc: 0.976 - ETA: 4s - loss: 0.0751 - acc: 0.976 - ETA: 4s - loss: 0.0755 - acc: 0.976 - ETA: 4s - loss: 0.0753 - acc: 0.976 - ETA: 4s - loss: 0.0744 - acc: 0.976 - ETA: 5s - loss: 0.0741 - acc: 0.976 - ETA: 5s - loss: 0.0743 - acc: 0.976 - ETA: 5s - loss: 0.0740 - acc: 0.976 - ETA: 5s - loss: 0.0741 - acc: 0.976 - ETA: 5s - loss: 0.0744 - acc: 0.976 - ETA: 6s - loss: 0.0743 - acc: 0.976 - ETA: 6s - loss: 0.0742 - acc: 0.976 - ETA: 6s - loss: 0.0736 - acc: 0.976 - ETA: 6s - loss: 0.0740 - acc: 0.976 - ETA: 5s - loss: 0.0737 - acc: 0.976 - ETA: 5s - loss: 0.0742 - acc: 0.976 - ETA: 5s - loss: 0.0739 - acc: 0.976 - ETA: 5s - loss: 0.0736 - acc: 0.976 - ETA: 5s - loss: 0.0736 - acc: 0.976 - ETA: 5s - loss: 0.0736 - acc: 0.976 - ETA: 5s - loss: 0.0734 - acc: 0.976 - ETA: 4s - loss: 0.0735 - acc: 0.976 - ETA: 4s - loss: 0.0728 - acc: 0.977 - ETA: 4s - loss: 0.0724 - acc: 0.977 - ETA: 4s - loss: 0.0719 - acc: 0.977 - ETA: 4s - loss: 0.0721 - acc: 0.977 - ETA: 4s - loss: 0.0716 - acc: 0.977 - ETA: 4s - loss: 0.0717 - acc: 0.977 - ETA: 3s - loss: 0.0715 - acc: 0.977 - ETA: 3s - loss: 0.0711 - acc: 0.977 - ETA: 3s - loss: 0.0715 - acc: 0.977 - ETA: 3s - loss: 0.0717 - acc: 0.977 - ETA: 3s - loss: 0.0723 - acc: 0.977 - ETA: 3s - loss: 0.0721 - acc: 0.977 - ETA: 3s - loss: 0.0718 - acc: 0.977 - ETA: 3s - loss: 0.0722 - acc: 0.977 - ETA: 3s - loss: 0.0719 - acc: 0.977 - ETA: 3s - loss: 0.0720 - acc: 0.977 - ETA: 2s - loss: 0.0725 - acc: 0.977 - ETA: 2s - loss: 0.0723 - acc: 0.977 - ETA: 2s - loss: 0.0721 - acc: 0.977 - ETA: 2s - loss: 0.0721 - acc: 0.977 - ETA: 2s - loss: 0.0722 - acc: 0.977 - ETA: 2s - loss: 0.0726 - acc: 0.977 - ETA: 2s - loss: 0.0729 - acc: 0.977 - ETA: 2s - loss: 0.0734 - acc: 0.977 - ETA: 2s - loss: 0.0735 - acc: 0.977 - ETA: 2s - loss: 0.0736 - acc: 0.977 - ETA: 1s - loss: 0.0731 - acc: 0.977 - ETA: 1s - loss: 0.0729 - acc: 0.977 - ETA: 1s - loss: 0.0728 - acc: 0.977 - ETA: 1s - loss: 0.0727 - acc: 0.977 - ETA: 1s - loss: 0.0729 - acc: 0.977 - ETA: 1s - loss: 0.0729 - acc: 0.977 - ETA: 1s - loss: 0.0732 - acc: 0.976 - ETA: 1s - loss: 0.0732 - acc: 0.976 - ETA: 1s - loss: 0.0728 - acc: 0.977 - ETA: 1s - loss: 0.0729 - acc: 0.977 - ETA: 1s - loss: 0.0729 - acc: 0.977 - ETA: 1s - loss: 0.0730 - acc: 0.976 - ETA: 0s - loss: 0.0729 - acc: 0.977 - ETA: 0s - loss: 0.0730 - acc: 0.976 - ETA: 0s - loss: 0.0732 - acc: 0.977 - ETA: 0s - loss: 0.0730 - acc: 0.976 - ETA: 0s - loss: 0.0727 - acc: 0.977 - ETA: 0s - loss: 0.0728 - acc: 0.977 - ETA: 0s - loss: 0.0727 - acc: 0.977 - ETA: 0s - loss: 0.0727 - acc: 0.977 - ETA: 0s - loss: 0.0725 - acc: 0.977 - ETA: 0s - loss: 0.0726 - acc: 0.977 - ETA: 0s - loss: 0.0726 - acc: 0.977 - ETA: 0s - loss: 0.0726 - acc: 0.977 - ETA: 0s - loss: 0.0728 - acc: 0.977 - ETA: 0s - loss: 0.0732 - acc: 0.976 - 6s 105us/sample - loss: 0.0731 - acc: 0.9770\n"
     ]
    },
    {
     "data": {
      "text/plain": [
       "<tensorflow.python.keras.callbacks.History at 0x210bfef6b48>"
      ]
     },
     "execution_count": 70,
     "metadata": {},
     "output_type": "execute_result"
    }
   ],
   "source": [
    "model = tf.keras.models.Sequential()\n",
    "#input the flattened images\n",
    "model.add(tf.keras.layers.Flatten())\n",
    "#Next model layer will arbitrarily have 128 neurons in the layer\n",
    "#relu is the default activation function\n",
    "model.add(tf.keras.layers.Dense(128, activation = tf.nn.relu))\n",
    "model.add(tf.keras.layers.Dense(128, activation = tf.nn.relu))\n",
    "#softmax can be used for probability distribution\n",
    "model.add(tf.keras.layers.Dense(10, activation = tf.nn.softmax))\n",
    "#Adam is a default optimizer\n",
    "#Loss function chosen because the matrices are sparse\n",
    "model.compile(optimizer = 'adam',\n",
    "             loss = 'sparse_categorical_crossentropy',\n",
    "             metrics = ['accuracy'])\n",
    "\n",
    "model.fit(x_train,y_train, epochs = 3)"
   ]
  },
  {
   "cell_type": "code",
   "execution_count": 77,
   "metadata": {},
   "outputs": [
    {
     "name": "stdout",
     "output_type": "stream",
     "text": [
      "10000/10000 [==============================] - ETA: 1s - loss: 0.0344 - acc: 1.000 - ETA: 0s - loss: 0.0811 - acc: 0.974 - ETA: 0s - loss: 0.1107 - acc: 0.967 - ETA: 0s - loss: 0.1085 - acc: 0.969 - ETA: 0s - loss: 0.1140 - acc: 0.965 - ETA: 0s - loss: 0.1065 - acc: 0.967 - ETA: 0s - loss: 0.0959 - acc: 0.970 - ETA: 0s - loss: 0.0865 - acc: 0.973 - 0s 40us/sample - loss: 0.0869 - acc: 0.9738\n",
      "0.08691226922590285 0.9738\n"
     ]
    }
   ],
   "source": [
    "val_loss, val_acc = model.evaluate(x_test,y_test)\n",
    "print(val_loss, val_acc)"
   ]
  },
  {
   "cell_type": "code",
   "execution_count": 75,
   "metadata": {},
   "outputs": [
    {
     "data": {
      "text/plain": [
       "0.08691226922590285"
      ]
     },
     "execution_count": 75,
     "metadata": {},
     "output_type": "execute_result"
    }
   ],
   "source": [
    "val_loss"
   ]
  },
  {
   "cell_type": "code",
   "execution_count": 76,
   "metadata": {},
   "outputs": [
    {
     "data": {
      "text/plain": [
       "0.9738"
      ]
     },
     "execution_count": 76,
     "metadata": {},
     "output_type": "execute_result"
    }
   ],
   "source": [
    "val_acc"
   ]
  },
  {
   "cell_type": "code",
   "execution_count": 78,
   "metadata": {},
   "outputs": [],
   "source": [
    "#Save and load models\n",
    "#model.save('test.model')\n",
    "#new model = tf.keras.models.load_model('test.model')"
   ]
  },
  {
   "cell_type": "code",
   "execution_count": 80,
   "metadata": {},
   "outputs": [
    {
     "name": "stdout",
     "output_type": "stream",
     "text": [
      "7\n"
     ]
    },
    {
     "data": {
      "image/png": "[encoded data removed]",
      "text/plain": [
       "<Figure size 432x288 with 1 Axes>"
      ]
     },
     "metadata": {
      "needs_background": "light"
     },
     "output_type": "display_data"
    }
   ],
   "source": [
    "predictions = model.predict([x_test])\n",
    "#This is the prediction for the 0th digit\n",
    "print(np.argmax(predictions[0]))\n",
    "plt.imshow(x_test[0])\n",
    "plt.show()"
   ]
  },
  {
   "cell_type": "code",
   "execution_count": null,
   "metadata": {},
   "outputs": [],
   "source": []
  }
 ],
 "metadata": {
  "kernelspec": {
   "display_name": "Python 3",
   "language": "python",
   "name": "python3"
  },
  "language_info": {
   "codemirror_mode": {
    "name": "ipython",
    "version": 3
   },
   "file_extension": ".py",
   "mimetype": "text/x-python",
   "name": "python",
   "nbconvert_exporter": "python",
   "pygments_lexer": "ipython3",
   "version": "3.7.4"
  }
 },
 "nbformat": 4,
 "nbformat_minor": 2
}
